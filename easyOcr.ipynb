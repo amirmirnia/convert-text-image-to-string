{
 "cells": [
  {
   "cell_type": "code",
   "execution_count": 4,
   "id": "52901cc3-ab1e-468f-a045-a84880125977",
   "metadata": {},
   "outputs": [],
   "source": [
    "import cv2\n",
    "import numpy as np\n",
    "import matplotlib.pyplot as plt\n",
    "import easyocr"
   ]
  },
  {
   "cell_type": "code",
   "execution_count": 7,
   "id": "40f0b392-03b4-4d20-9155-989bad577493",
   "metadata": {},
   "outputs": [
    {
     "name": "stderr",
     "output_type": "stream",
     "text": [
      "Neither CUDA nor MPS are available - defaulting to CPU. Note: This module is much faster with a GPU.\n"
     ]
    },
    {
     "data": {
      "text/plain": [
       "[[[[87, 0], [527, 0], [527, 104], [87, 104]], 'P 688 CC', 0.6703918571429454]]"
      ]
     },
     "execution_count": 7,
     "metadata": {},
     "output_type": "execute_result"
    }
   ],
   "source": [
    "img=cv2.imread(\"finalplateimage.jpg\")\n",
    "reader = easyocr.Reader(['fa','en'])\n",
    "result = reader.readtext(img)\n",
    "result\n",
    "\n"
   ]
  },
  {
   "cell_type": "code",
   "execution_count": 9,
   "id": "8ce094ea-e9b2-4e28-b3a3-8f903ff13dc9",
   "metadata": {},
   "outputs": [
    {
     "data": {
      "text/plain": [
       "'P 688 CC'"
      ]
     },
     "execution_count": 9,
     "metadata": {},
     "output_type": "execute_result"
    }
   ],
   "source": [
    "result[0][1]"
   ]
  },
  {
   "cell_type": "code",
   "execution_count": null,
   "id": "08c2c869-c868-4f01-b81c-aad676efe51c",
   "metadata": {},
   "outputs": [],
   "source": []
  }
 ],
 "metadata": {
  "kernelspec": {
   "display_name": "Python 3 (ipykernel)",
   "language": "python",
   "name": "python3"
  },
  "language_info": {
   "codemirror_mode": {
    "name": "ipython",
    "version": 3
   },
   "file_extension": ".py",
   "mimetype": "text/x-python",
   "name": "python",
   "nbconvert_exporter": "python",
   "pygments_lexer": "ipython3",
   "version": "3.11.2"
  }
 },
 "nbformat": 4,
 "nbformat_minor": 5
}
